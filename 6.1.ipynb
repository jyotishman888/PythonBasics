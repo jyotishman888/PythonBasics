{
 "cells": [
  {
   "cell_type": "code",
   "execution_count": 82,
   "metadata": {},
   "outputs": [],
   "source": [
    "# Blueprint of object is class\n",
    "# self = current class reference pointer\n",
    "# no fixed name for self any name for first parameter of init\n",
    "# init is contructor of class\n",
    "# always make a function to access a class member\n",
    "# staticmethod is predefined decorator used declare functions without access to class variable\n",
    "# @property,@function_name.setter\n",
    "class Myclass():\n",
    "    \n",
    "    \"Myclass is a python class\"\n",
    "    \n",
    "    def __init__(self, num):\n",
    "        self.num = num\n",
    "    \n",
    "    @classmethod\n",
    "    def fromString(cls, num):\n",
    "        return cls(int(num))\n",
    "    \n",
    "    def get_num(self):\n",
    "        return self.num\n",
    "    \n",
    "    def set_num(self, num):\n",
    "        self.num = num\n",
    "    @staticmethod\n",
    "    def method():\n",
    "        print(\"Hello\")\n",
    "        \n",
    "    def __add__( num1, num2 ):\n",
    "        return num1.num + num2.num\n",
    "    \n",
    "    def __eq__(num1,num2):\n",
    "        return num1.num == num2.num \n",
    "    \n",
    "    def __str__():\n",
    "        return \"HHHH\"\n",
    "    \n",
    "#     def __new__(self,cls):\n",
    "#         print(\"JJJ\")"
   ]
  },
  {
   "cell_type": "code",
   "execution_count": 83,
   "metadata": {},
   "outputs": [
    {
     "name": "stdout",
     "output_type": "stream",
     "text": [
      "Hello\n"
     ]
    }
   ],
   "source": [
    "x = Myclass(\"huk\")\n",
    "x.get_num()\n",
    "x.method()"
   ]
  },
  {
   "cell_type": "code",
   "execution_count": 84,
   "metadata": {},
   "outputs": [
    {
     "data": {
      "text/plain": [
       "__main__.Myclass"
      ]
     },
     "execution_count": 84,
     "metadata": {},
     "output_type": "execute_result"
    }
   ],
   "source": [
    "type(x)"
   ]
  },
  {
   "cell_type": "code",
   "execution_count": 89,
   "metadata": {},
   "outputs": [
    {
     "ename": "TypeError",
     "evalue": "can only concatenate str (not \"int\") to str",
     "output_type": "error",
     "traceback": [
      "\u001b[1;31m---------------------------------------------------------------------------\u001b[0m",
      "\u001b[1;31mTypeError\u001b[0m                                 Traceback (most recent call last)",
      "\u001b[1;32m<ipython-input-89-8e273215e0df>\u001b[0m in \u001b[0;36m<module>\u001b[1;34m\u001b[0m\n\u001b[0;32m      1\u001b[0m \u001b[1;31m# Current python module given by __main__\u001b[0m\u001b[1;33m\u001b[0m\u001b[1;33m\u001b[0m\u001b[1;33m\u001b[0m\u001b[0m\n\u001b[1;32m----> 2\u001b[1;33m \u001b[0mx\u001b[0m\u001b[1;33m.\u001b[0m\u001b[0mnum\u001b[0m \u001b[1;33m+=\u001b[0m \u001b[1;36m1\u001b[0m\u001b[1;33m\u001b[0m\u001b[1;33m\u001b[0m\u001b[0m\n\u001b[0m",
      "\u001b[1;31mTypeError\u001b[0m: can only concatenate str (not \"int\") to str"
     ]
    }
   ],
   "source": [
    "# Current python module given by __main__\n",
    "x.num += 1"
   ]
  },
  {
   "cell_type": "code",
   "execution_count": 90,
   "metadata": {},
   "outputs": [
    {
     "data": {
      "text/plain": [
       "'huk'"
      ]
     },
     "execution_count": 90,
     "metadata": {},
     "output_type": "execute_result"
    }
   ],
   "source": [
    "x.num"
   ]
  },
  {
   "cell_type": "code",
   "execution_count": 91,
   "metadata": {},
   "outputs": [],
   "source": [
    "x.set_num(34)"
   ]
  },
  {
   "cell_type": "code",
   "execution_count": 92,
   "metadata": {},
   "outputs": [
    {
     "data": {
      "text/plain": [
       "34"
      ]
     },
     "execution_count": 92,
     "metadata": {},
     "output_type": "execute_result"
    }
   ],
   "source": [
    "x.get_num()"
   ]
  },
  {
   "cell_type": "code",
   "execution_count": null,
   "metadata": {},
   "outputs": [],
   "source": [
    "y = Myclass(77)"
   ]
  },
  {
   "cell_type": "code",
   "execution_count": null,
   "metadata": {},
   "outputs": [],
   "source": [
    "y.get_num()"
   ]
  },
  {
   "cell_type": "code",
   "execution_count": null,
   "metadata": {},
   "outputs": [],
   "source": [
    "x.get_num()"
   ]
  },
  {
   "cell_type": "code",
   "execution_count": null,
   "metadata": {},
   "outputs": [],
   "source": [
    "z = Myclass.fromString(\"25\")"
   ]
  },
  {
   "cell_type": "code",
   "execution_count": null,
   "metadata": {},
   "outputs": [],
   "source": [
    "type(z.get_num())"
   ]
  },
  {
   "cell_type": "code",
   "execution_count": null,
   "metadata": {},
   "outputs": [],
   "source": [
    "x.__doc__"
   ]
  },
  {
   "cell_type": "code",
   "execution_count": null,
   "metadata": {},
   "outputs": [],
   "source": [
    "dir(x)"
   ]
  },
  {
   "cell_type": "code",
   "execution_count": 88,
   "metadata": {},
   "outputs": [
    {
     "data": {
      "text/plain": [
       "18"
      ]
     },
     "execution_count": 88,
     "metadata": {},
     "output_type": "execute_result"
    }
   ],
   "source": [
    "a = Myclass(9)\n",
    "b = Myclass(9)\n",
    "a + b"
   ]
  },
  {
   "cell_type": "code",
   "execution_count": 87,
   "metadata": {},
   "outputs": [
    {
     "data": {
      "text/plain": [
       "True"
      ]
     },
     "execution_count": 87,
     "metadata": {},
     "output_type": "execute_result"
    }
   ],
   "source": [
    "a == b"
   ]
  },
  {
   "cell_type": "code",
   "execution_count": 86,
   "metadata": {},
   "outputs": [],
   "source": [
    "a"
   ]
  },
  {
   "cell_type": "code",
   "execution_count": 130,
   "metadata": {},
   "outputs": [],
   "source": [
    "class Fibonnaci():\n",
    "    \n",
    "    def __init__(self, num):\n",
    "        self.num = num\n",
    "        self.first = 0\n",
    "        self.prev = 1\n",
    "        self.new = 0\n",
    "        self.fib_lst = []\n",
    "        self.fib_lst.append(self.new)\n",
    "        for i in range (0,self.num-1):\n",
    "            self.new = self.prev + self.first\n",
    "            self.first = self.prev\n",
    "            self.prev = self.new\n",
    "            self.fib_lst.append(self.new)\n",
    "            \n",
    "    def print_fib(self):\n",
    "        print(self.fib_lst)\n",
    "        \n",
    "    def sum_fib(self):\n",
    "        self.sum = 0\n",
    "        for i in self.fib_lst:\n",
    "            self.sum += i\n",
    "        print(self.sum)\n",
    "        \n",
    "    def print_last(self):\n",
    "        print(self.fib_lst[-1])"
   ]
  },
  {
   "cell_type": "code",
   "execution_count": 132,
   "metadata": {},
   "outputs": [
    {
     "name": "stdout",
     "output_type": "stream",
     "text": [
      "[0, 1, 2, 3, 5, 8, 13, 21]\n",
      "53\n",
      "21\n"
     ]
    }
   ],
   "source": [
    "x = Fibonnaci(8)\n",
    "x.print_fib()\n",
    "x.sum_fib()\n",
    "x.print_last()"
   ]
  },
  {
   "cell_type": "code",
   "execution_count": null,
   "metadata": {},
   "outputs": [],
   "source": []
  }
 ],
 "metadata": {
  "kernelspec": {
   "display_name": "Python 3",
   "language": "python",
   "name": "python3"
  },
  "language_info": {
   "codemirror_mode": {
    "name": "ipython",
    "version": 3
   },
   "file_extension": ".py",
   "mimetype": "text/x-python",
   "name": "python",
   "nbconvert_exporter": "python",
   "pygments_lexer": "ipython3",
   "version": "3.7.4"
  }
 },
 "nbformat": 4,
 "nbformat_minor": 2
}
