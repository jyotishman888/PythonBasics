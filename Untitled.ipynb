{
 "cells": [
  {
   "cell_type": "raw",
   "metadata": {},
   "source": []
  },
  {
   "cell_type": "code",
   "execution_count": 1,
   "metadata": {},
   "outputs": [
    {
     "name": "stdout",
     "output_type": "stream",
     "text": [
      "heloo\n"
     ]
    }
   ],
   "source": [
    "print(\"heloo\")"
   ]
  },
  {
   "cell_type": "code",
   "execution_count": null,
   "metadata": {},
   "outputs": [],
   "source": []
  },
  {
   "cell_type": "code",
   "execution_count": 1,
   "metadata": {},
   "outputs": [
    {
     "name": "stdout",
     "output_type": "stream",
     "text": [
      "66\n",
      "66\n",
      "88\n",
      "88\n",
      "44\n",
      "44\n",
      "42\n"
     ]
    }
   ],
   "source": [
    "var=0\n",
    "danger=42\n",
    "while var!=42:\n",
    "    var=int(input(\"\"))\n",
    "    if var!=danger:\n",
    "        print(var)\n",
    "    else:\n",
    "        break\n",
    "   \n",
    "    \n",
    "    "
   ]
  },
  {
   "cell_type": "code",
   "execution_count": 10,
   "metadata": {},
   "outputs": [
    {
     "name": "stdout",
     "output_type": "stream",
     "text": [
      "To check whether a string is a palindrome or not\n",
      "madamimadam\n",
      "-------------------------\n",
      "String is a palindrome\n"
     ]
    }
   ],
   "source": [
    "print(\"To check whether a string is a palindrome or not\")\n",
    "punctuations = '''!()-[]{};:'\"\\,<>./?@#$%^&*_~'''\" \"\n",
    "myString = \"Madam, I'm Adam\"\n",
    "myString = myString.lower()\n",
    "removed_punc=\"\"\n",
    "for char in myString:\n",
    "    if char not in punctuations:\n",
    "        removed_punc = removed_punc + char\n",
    "print(removed_punc)\n",
    "print(\"-------------------------\")\n",
    "rev_str=reversed(removed_punc)\n",
    "if list(rev_str)==list(removed_punc):\n",
    "    print(\"String is a palindrome\")\n",
    "else:\n",
    "    print(\"The string is not palindrome\")\n",
    "\n"
   ]
  },
  {
   "cell_type": "code",
   "execution_count": 29,
   "metadata": {},
   "outputs": [
    {
     "name": "stdout",
     "output_type": "stream",
     "text": [
      "Enter the Index number you want to edit:0\n",
      "HelloWorld"
     ]
    }
   ],
   "source": [
    "# Question - Program to change the case of a character in a string. If the input string is HelloWorld, and the input index is 1, then output of the program will be HElloWorld.\n",
    "myString = \"HelloWorld\"\n",
    "inputIndex = int(input(\"Enter the Index number you want to edit:\"))\n",
    "for i,value in enumerate(myString):\n",
    "    if i==inputIndex:\n",
    "        if value==value.isupper():\n",
    "            value=value.lower()\n",
    "        else:\n",
    "            value=value.upper()\n",
    "    print(value,end=\"\")\n",
    "\n",
    "\n",
    "    "
   ]
  },
  {
   "cell_type": "code",
   "execution_count": 4,
   "metadata": {},
   "outputs": [
    {
     "name": "stdout",
     "output_type": "stream",
     "text": [
      "Enter the string: SerwksjfdhjWL\n",
      "Enter the Index number you want to edit:5\n",
      "SerwkSjfdhjWL"
     ]
    }
   ],
   "source": [
    "# Question - Program to change the case of a character in a string. If the input string is HelloWorld, and the input index is 1, then output of the program will be HElloWorld.\n",
    "myString = input(\"Enter the string: \")\n",
    "inputIndex = int(input(\"Enter the Index number you want to edit:\"))\n",
    "for i in range(0,len(myString)):\n",
    "    if(i == inputIndex):\n",
    "        x = myString[inputIndex].swapcase()\n",
    "        print(x,end=\"\")\n",
    "    else:\n",
    "        print(myString[i],end=\"\")"
   ]
  },
  {
   "cell_type": "code",
   "execution_count": 7,
   "metadata": {},
   "outputs": [
    {
     "ename": "TypeError",
     "evalue": "'list' object cannot be interpreted as an integer",
     "output_type": "error",
     "traceback": [
      "\u001b[1;31m---------------------------------------------------------------------------\u001b[0m",
      "\u001b[1;31mTypeError\u001b[0m                                 Traceback (most recent call last)",
      "\u001b[1;32m<ipython-input-7-1dc624f89cd3>\u001b[0m in \u001b[0;36m<module>\u001b[1;34m\u001b[0m\n\u001b[0;32m      1\u001b[0m \u001b[0mlist\u001b[0m\u001b[1;33m=\u001b[0m\u001b[1;33m[\u001b[0m\u001b[1;36m2\u001b[0m\u001b[1;33m,\u001b[0m\u001b[1;36m4\u001b[0m\u001b[1;33m,\u001b[0m\u001b[1;36m3\u001b[0m\u001b[1;33m,\u001b[0m\u001b[1;36m8\u001b[0m\u001b[1;33m,\u001b[0m\u001b[1;36m9\u001b[0m\u001b[1;33m,\u001b[0m\u001b[1;33m-\u001b[0m\u001b[1;36m1\u001b[0m\u001b[1;33m,\u001b[0m\u001b[1;33m-\u001b[0m\u001b[1;36m2\u001b[0m\u001b[1;33m]\u001b[0m\u001b[1;33m\u001b[0m\u001b[1;33m\u001b[0m\u001b[0m\n\u001b[1;32m----> 2\u001b[1;33m \u001b[1;32mfor\u001b[0m \u001b[0mi\u001b[0m \u001b[1;32min\u001b[0m \u001b[0mrange\u001b[0m\u001b[1;33m(\u001b[0m\u001b[0mlist\u001b[0m\u001b[1;33m)\u001b[0m\u001b[1;33m:\u001b[0m\u001b[1;33m\u001b[0m\u001b[1;33m\u001b[0m\u001b[0m\n\u001b[0m\u001b[0;32m      3\u001b[0m     \u001b[1;32mfor\u001b[0m \u001b[0mj\u001b[0m \u001b[1;32min\u001b[0m \u001b[0mrange\u001b[0m\u001b[1;33m(\u001b[0m\u001b[1;36m0\u001b[0m\u001b[1;33m,\u001b[0m\u001b[0mi\u001b[0m\u001b[1;33m+\u001b[0m\u001b[1;36m1\u001b[0m\u001b[1;33m)\u001b[0m\u001b[1;33m:\u001b[0m\u001b[1;33m\u001b[0m\u001b[1;33m\u001b[0m\u001b[0m\n\u001b[0;32m      4\u001b[0m         \u001b[1;32mif\u001b[0m \u001b[0mi\u001b[0m \u001b[1;33m+\u001b[0m \u001b[0mj\u001b[0m \u001b[1;33m==\u001b[0m \u001b[1;36m7\u001b[0m\u001b[1;33m:\u001b[0m\u001b[1;33m\u001b[0m\u001b[1;33m\u001b[0m\u001b[0m\n\u001b[0;32m      5\u001b[0m             \u001b[0mprint\u001b[0m\u001b[1;33m(\u001b[0m\u001b[0mi\u001b[0m\u001b[1;33m,\u001b[0m\u001b[0mj\u001b[0m\u001b[1;33m)\u001b[0m\u001b[1;33m\u001b[0m\u001b[1;33m\u001b[0m\u001b[0m\n",
      "\u001b[1;31mTypeError\u001b[0m: 'list' object cannot be interpreted as an integer"
     ]
    }
   ],
   "source": [
    "list=[2,4,3,8,9,-1,-2]\n",
    "for i in range(list):\n",
    "    for j in range(0,i+1):\n",
    "        if i + j == 7:\n",
    "            print(i,j)\n",
    "        "
   ]
  },
  {
   "cell_type": "code",
   "execution_count": 2,
   "metadata": {},
   "outputs": [
    {
     "name": "stdout",
     "output_type": "stream",
     "text": [
      "\\\\\n",
      " \\\\\n",
      "  \\\\\n",
      "   \\\\\n",
      "   //\n",
      "  //\n",
      " //\n",
      "//\n"
     ]
    }
   ],
   "source": [
    "x = ' '\n",
    "for i in range(4):\n",
    "    print(x*i+\"\\\\\\\\\")\n",
    "j = 3\n",
    "while j>=0:\n",
    "    print(x*j+\"//\")\n",
    "    j=j-1"
   ]
  },
  {
   "cell_type": "code",
   "execution_count": 9,
   "metadata": {},
   "outputs": [
    {
     "name": "stdout",
     "output_type": "stream",
     "text": [
      "Enter a year : 1997\n",
      "1997 is not a leap year\n"
     ]
    }
   ],
   "source": [
    "inputYear = int(input(\"Enter a year : \"))\n",
    "if (inputYear % 4) == 0:\n",
    "        if (inputYear % 100) == 0:\n",
    "            if (inputYear % 400) == 0:\n",
    "                print(\"{} is a leap year\".format(inputYear))\n",
    "else:\n",
    "    print(\"{} is not a leap year\".format(inputYear))\n",
    "        "
   ]
  },
  {
   "cell_type": "code",
   "execution_count": 14,
   "metadata": {},
   "outputs": [
    {
     "name": "stdout",
     "output_type": "stream",
     "text": [
      "Check whether a number is Armstrong Number or Not\n",
      "Enter the number : 1634\n",
      "It is an amstrong number\n"
     ]
    }
   ],
   "source": [
    "print(\"Check whether a number is Armstrong Number or Not\")\n",
    "number = input(\"Enter the number : \")\n",
    "length = len(number)\n",
    "sum = 0\n",
    "for i in number:\n",
    "    value = int(i)\n",
    "    value = value ** length\n",
    "    sum = sum + value\n",
    "if sum == int(number):\n",
    "    print(\"It is an amstrong number\")\n",
    "else :\n",
    "    print(\"It is not an amstrong number\")"
   ]
  },
  {
   "cell_type": "code",
   "execution_count": 27,
   "metadata": {},
   "outputs": [],
   "source": []
  },
  {
   "cell_type": "code",
   "execution_count": 18,
   "metadata": {},
   "outputs": [
    {
     "name": "stdout",
     "output_type": "stream",
     "text": [
      "[[4, 3], [8, -1], [9, -2]]\n"
     ]
    }
   ],
   "source": [
    "x=[]\n",
    "l=[2,4,3,8,9,-1,-2]\n",
    "for index1,value1 in enumerate(l):\n",
    "    for index2,value2 in enumerate(l[index1:]):\n",
    "        if value1+value2==7:\n",
    "            x.append([value1,value2])      #Note(imp)...append() doesn't return anything ..you might think it to return a list\n",
    "print(x)"
   ]
  },
  {
   "cell_type": "code",
   "execution_count": 28,
   "metadata": {},
   "outputs": [
    {
     "name": "stdout",
     "output_type": "stream",
     "text": [
      "(4,3)\n",
      "(8,-1)\n",
      "(9,-2)\n"
     ]
    }
   ],
   "source": [
    "x=[]\n",
    "l=[2,4,3,8,9,-1,-2]\n",
    "for index,value in enumerate(l):\n",
    "    for secondIndex,secondValue in enumerate(l[index+1:]):\n",
    "        if value+secondValue==7:\n",
    "            print(\"({},{})\".format(value,secondValue))"
   ]
  },
  {
   "cell_type": "code",
   "execution_count": null,
   "metadata": {},
   "outputs": [],
   "source": [
    "list=[2,4,3,8,9,-1,-2]\n",
    "for i in range(0,len(list)):\n",
    "    for j in range(i,len(list)):\n",
    "        if "
   ]
  },
  {
   "cell_type": "code",
   "execution_count": 30,
   "metadata": {},
   "outputs": [
    {
     "name": "stdout",
     "output_type": "stream",
     "text": [
      "Enter the steps in the downward direction : 5\n",
      "Enter the steps in the upward direction : 6\n",
      "Enter the steps in the right direction : 4\n",
      "Enter the steps in the left direction : 6\n",
      "2\n"
     ]
    }
   ],
   "source": [
    "down=int(input(\"Enter the steps in the downward direction : \"))\n",
    "up=int(input(\"Enter the steps in the upward direction : \"))\n",
    "right=int(input(\"Enter the steps in the right direction : \"))\n",
    "left=int(input(\"Enter the steps in the left direction : \"))\n",
    "horizontal=right-left\n",
    "vertical=down-up\n",
    "output=(horizontal*horizontal)+(vertical*vertical)\n",
    "output=output**0.5\n",
    "print(int(output))"
   ]
  },
  {
   "cell_type": "code",
   "execution_count": 31,
   "metadata": {},
   "outputs": [
    {
     "name": "stdout",
     "output_type": "stream",
     "text": [
      "Enter the first input : apple\n",
      "Enter the second input : orange\n",
      "aoprpalnege"
     ]
    }
   ],
   "source": [
    "#Apple orange\n",
    "firstInput=[]\n",
    "secondInput=[]\n",
    "firstInput=input(\"Enter the first input : \")\n",
    "secondInput=input(\"Enter the second input : \")\n",
    "if len(firstInput)>len(secondInput):\n",
    "    longest=firstInput\n",
    "else :\n",
    "    longest=secondInput\n",
    "first=len(firstInput)\n",
    "second=len(secondInput)\n",
    "for i in range(0,len(longest)):\n",
    "    if i<first:\n",
    "        print(firstInput[i],end=\"\")\n",
    "    if i<second:\n",
    "        print(secondInput[i],end=\"\")"
   ]
  },
  {
   "cell_type": "code",
   "execution_count": null,
   "metadata": {},
   "outputs": [],
   "source": []
  }
 ],
 "metadata": {
  "kernelspec": {
   "display_name": "Python 3",
   "language": "python",
   "name": "python3"
  },
  "language_info": {
   "codemirror_mode": {
    "name": "ipython",
    "version": 3
   },
   "file_extension": ".py",
   "mimetype": "text/x-python",
   "name": "python",
   "nbconvert_exporter": "python",
   "pygments_lexer": "ipython3",
   "version": "3.7.4"
  }
 },
 "nbformat": 4,
 "nbformat_minor": 2
}
