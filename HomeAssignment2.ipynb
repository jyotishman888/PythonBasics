{
 "cells": [
  {
   "cell_type": "code",
   "execution_count": 3,
   "metadata": {},
   "outputs": [
    {
     "name": "stdout",
     "output_type": "stream",
     "text": [
      "Enter a string: fskdhfshfaeuyouqehfweyroq3\n",
      "['f', 's', 'k', 'd', 'h', 'f', 's', 'h', 'f', 'y', 'q', 'h', 'f', 'w', 'y', 'r', 'q', '3']\n"
     ]
    }
   ],
   "source": [
    "# Remove vowel from a string \n",
    "\n",
    "string = input(\"Enter a string: \")\n",
    "vowels = ('a','e','i','o','u','A','E','I','O','U',\" \")\n",
    "x = []\n",
    "for i in string:\n",
    "    if i not in vowels:\n",
    "         x.append(i)\n",
    "print(x)\n",
    "    \n",
    "    "
   ]
  },
  {
   "cell_type": "code",
   "execution_count": 2,
   "metadata": {},
   "outputs": [
    {
     "name": "stdout",
     "output_type": "stream",
     "text": [
      "Enter the temperature in Celcius : 55\n",
      "Convert to (C/K/F)k\n"
     ]
    },
    {
     "data": {
      "text/plain": [
       "328.15"
      ]
     },
     "execution_count": 2,
     "metadata": {},
     "output_type": "execute_result"
    }
   ],
   "source": [
    "# Temperator converter/calculator\n",
    "\n",
    "def temp_convertor(value = 0, finalScale = 'X'):\n",
    "    if finalScale == \"C\" or finalScale == 'c':\n",
    "        return finalScale\n",
    "    elif finalScale == \"F\" or finalScale == 'f':\n",
    "        return value * (9/5) + 32\n",
    "    elif finalScale == \"K\" or finalScale == 'k':\n",
    "        return value + 273.15\n",
    "    else:\n",
    "        print(\"Wrong Input\")\n",
    "value = float(input(\"Enter the temperature in Celcius : \"))\n",
    "finalState = input(\"Convert to (C/K/F)\")\n",
    "temp_convertor(value,finalState)"
   ]
  },
  {
   "cell_type": "code",
   "execution_count": 19,
   "metadata": {},
   "outputs": [
    {
     "name": "stdout",
     "output_type": "stream",
     "text": [
      "VmIuszwjk%\n"
     ]
    }
   ],
   "source": [
    "# Random password generator of centain length\n",
    "\n",
    "\n",
    "import random\n",
    "\n",
    "sample_string = \"abcdefghijklmnopqrstuvwxyz1234567890ABCDEFGHIJKLMNOPQRSTUVWQYZ!@#$%^&*\"\n",
    "passlen = 10                                                                             \n",
    "p = \"\".join(random.sample(sample_string,passlen))                                                    \n",
    "print(p)\n"
   ]
  },
  {
   "cell_type": "code",
   "execution_count": null,
   "metadata": {},
   "outputs": [
    {
     "name": "stdout",
     "output_type": "stream",
     "text": [
      "Rock vs paper-> paper wins   Rock vs scissor-> Rock wins    paper vs scissor-> scissor wins.\n",
      "Enter your choice : Rock/Paper/Scissor : Rock\n",
      "Draw\n"
     ]
    }
   ],
   "source": [
    "# Rock Paper Scissor Game\n",
    "\n",
    "import random\n",
    "list=[\"Rock\",\"Paper\",\"Scissor\"]\n",
    "print(\"Rock vs paper-> paper wins   Rock vs scissor-> Rock wins    paper vs scissor-> scissor wins.\")\n",
    "i=2\n",
    "while i!=0:\n",
    "    userInput=input(\"Enter your choice : Rock/Paper/Scissor : \")\n",
    "    random_choice=random.choice(list)\n",
    "    if userInput==random_choice:\n",
    "        print(\"Draw\")\n",
    "    elif userInput==\"Rock\" and random_choice==\"Paper\":\n",
    "        print(\"You loose!!\")\n",
    "    elif userInput==\"Paper\" and random_choice==\"Rock\":\n",
    "        print(\"You won!!\")\n",
    "        break\n",
    "    elif userInput==\"Rock\" and random_choice==\"Scissor\":\n",
    "        print(\"You won!!\")\n",
    "        break\n",
    "    elif userInput==\"Scissor\" and random_choice==\"Rock\":\n",
    "        print(\"You loose!!\")\n",
    "    elif userInput==\"Scissor\" and random_choice==\"Paper\":\n",
    "        print(\"You won!!\")\n",
    "        break\n",
    "    elif userInput==\"Paper\" and random_choice==\"Scissor\":\n",
    "        print(\"You loose!!\")\n",
    "    i-+1"
   ]
  },
  {
   "cell_type": "code",
   "execution_count": 2,
   "metadata": {},
   "outputs": [],
   "source": [
    "#Question-5\n",
    "\n",
    "def compress(string):\n",
    "\n",
    "    res = \"\"\n",
    "\n",
    "    count = 1\n",
    "\n",
    "   \n",
    "    res += string[0]\n",
    "\n",
    " \n",
    "    for i in range(0,len(string)-1,1):\n",
    "        if(string[i] == string[i+1]):\n",
    "            count+=1\n",
    "        else:\n",
    "            if(count > 0):\n",
    "                \n",
    "                res += str(count)\n",
    "            res += string[i+1]\n",
    "            count = 1\n",
    "    \n",
    "    if(count > 0):\n",
    "        res += str(count)\n",
    "    return res"
   ]
  },
  {
   "cell_type": "code",
   "execution_count": 7,
   "metadata": {},
   "outputs": [
    {
     "name": "stdout",
     "output_type": "stream",
     "text": [
      "Enter a string: helloolleh\n",
      "h 1 e 1 l 2 o 2 l 2 e 1 h 1 "
     ]
    }
   ],
   "source": [
    "input_string=input(\"Enter a string: \")\n",
    "for i in compress(input_string):\n",
    "    print(i,end=\" \")\n"
   ]
  },
  {
   "cell_type": "code",
   "execution_count": 1,
   "metadata": {},
   "outputs": [
    {
     "name": "stdout",
     "output_type": "stream",
     "text": [
      "Hellothereneverfear\n",
      "e 6\n",
      "r 3\n",
      "l 2\n"
     ]
    }
   ],
   "source": [
    "# Question-6\n",
    "\n",
    "\n",
    "S = input()\n",
    "letters = [0]*26\n",
    "\n",
    "for letter in S:\n",
    "    letters[ord(letter)-ord('a')] += 1\n",
    "\n",
    "for _ in range(3):\n",
    "    \n",
    "    max_letter = max(letters)\n",
    "    \n",
    "    for index in range(26):\n",
    "        if max_letter == letters[index]:\n",
    "            print (chr(ord('a')+index), max_letter)\n",
    "            letters[index] = -1\n",
    "            break"
   ]
  },
  {
   "cell_type": "code",
   "execution_count": null,
   "metadata": {},
   "outputs": [],
   "source": []
  },
  {
   "cell_type": "code",
   "execution_count": null,
   "metadata": {},
   "outputs": [],
   "source": []
  },
  {
   "cell_type": "code",
   "execution_count": null,
   "metadata": {},
   "outputs": [],
   "source": []
  },
  {
   "cell_type": "code",
   "execution_count": null,
   "metadata": {},
   "outputs": [],
   "source": []
  }
 ],
 "metadata": {
  "kernelspec": {
   "display_name": "Python 3",
   "language": "python",
   "name": "python3"
  },
  "language_info": {
   "codemirror_mode": {
    "name": "ipython",
    "version": 3
   },
   "file_extension": ".py",
   "mimetype": "text/x-python",
   "name": "python",
   "nbconvert_exporter": "python",
   "pygments_lexer": "ipython3",
   "version": "3.7.4"
  }
 },
 "nbformat": 4,
 "nbformat_minor": 2
}
