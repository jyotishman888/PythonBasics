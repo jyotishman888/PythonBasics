{
 "cells": [
  {
   "cell_type": "code",
   "execution_count": 2,
   "metadata": {},
   "outputs": [
    {
     "name": "stdout",
     "output_type": "stream",
     "text": [
      "This is function f\n",
      "Now i'll call function g\n",
      "this is function g\n",
      "thanks for calling me\n"
     ]
    }
   ],
   "source": [
    "def f():\n",
    "    def g():\n",
    "        print(\"this is function g\")\n",
    "        print(\"thanks for calling me\")\n",
    "    \n",
    "    \n",
    "    print(\"This is function f\")\n",
    "    print(\"Now i'll call function g\")\n",
    "    \n",
    "    g()\n",
    "    \n",
    "    \n",
    "f()\n",
    "    \n"
   ]
  },
  {
   "cell_type": "code",
   "execution_count": 4,
   "metadata": {},
   "outputs": [
    {
     "data": {
      "text/plain": [
       "11"
      ]
     },
     "execution_count": 4,
     "metadata": {},
     "output_type": "execute_result"
    }
   ],
   "source": [
    "def succ(x):\n",
    "    return x + 1\n",
    "successor = succ\n",
    "successor(10)\n"
   ]
  },
  {
   "cell_type": "code",
   "execution_count": 5,
   "metadata": {},
   "outputs": [
    {
     "data": {
      "text/plain": [
       "11"
      ]
     },
     "execution_count": 5,
     "metadata": {},
     "output_type": "execute_result"
    }
   ],
   "source": [
    "succ(10)"
   ]
  },
  {
   "cell_type": "code",
   "execution_count": 11,
   "metadata": {},
   "outputs": [
    {
     "name": "stdout",
     "output_type": "stream",
     "text": [
      "its 122.0 Degree!!!\n"
     ]
    }
   ],
   "source": [
    "def temperature(t):\n",
    "    def celcius2farenhiet(x):\n",
    "        return 9 * x / 5 + 32\n",
    "    \n",
    "    \n",
    "    result = \"its \" + str(celcius2farenhiet(t)) + \" Degree!!!\"  \n",
    "    return result\n",
    "    \n",
    "    \n",
    "print(temperature(50))\n"
   ]
  },
  {
   "cell_type": "code",
   "execution_count": 12,
   "metadata": {},
   "outputs": [
    {
     "name": "stdout",
     "output_type": "stream",
     "text": [
      "This is function f\n",
      "Now i'll call function g\n",
      "this is function g\n",
      "thanks for calling me\n"
     ]
    }
   ],
   "source": [
    "def g():\n",
    "    print(\"this is function g\")\n",
    "    print(\"thanks for calling me\")\n",
    "\n",
    "def f(func): \n",
    "    \n",
    "    print(\"This is function f\")\n",
    "    print(\"Now i'll call function g\")\n",
    "    \n",
    "    func()\n",
    "    \n",
    "    \n",
    "f(g)\n",
    "    "
   ]
  },
  {
   "cell_type": "code",
   "execution_count": 13,
   "metadata": {},
   "outputs": [
    {
     "name": "stdout",
     "output_type": "stream",
     "text": [
      "This is function f\n",
      "Now i'll call function g\n",
      "this is function g\n",
      "thanks for calling me\n"
     ]
    }
   ],
   "source": [
    "def f():\n",
    "    def g():\n",
    "        print(\"this is function g\")\n",
    "        print(\"thanks for calling me\")\n",
    "    \n",
    "    \n",
    "    print(\"This is function f\")\n",
    "    print(\"Now i'll call function g\")\n",
    "    \n",
    "    g()\n",
    "    \n",
    "    \n",
    "f()\n",
    "    "
   ]
  },
  {
   "cell_type": "code",
   "execution_count": 14,
   "metadata": {},
   "outputs": [
    {
     "data": {
      "text/plain": [
       "'My name is Jyotishman'"
      ]
     },
     "execution_count": 14,
     "metadata": {},
     "output_type": "execute_result"
    }
   ],
   "source": [
    "def method1(param1):\n",
    "    def method2():\n",
    "        return \"My name is\" + param1\n",
    "    return method2\n",
    "\n",
    "x = method1(\" Jyotishman\")\n",
    "x()"
   ]
  },
  {
   "cell_type": "code",
   "execution_count": 8,
   "metadata": {},
   "outputs": [
    {
     "name": "stdout",
     "output_type": "stream",
     "text": [
      "9\n",
      "2 3 5 7 "
     ]
    }
   ],
   "source": [
    "num1 = int(input())\n",
    "for num in range(2,num1):\n",
    "    if all( num % i != 0 for i in range(2,num)):\n",
    "        print(num,end=\" \")"
   ]
  },
  {
   "cell_type": "code",
   "execution_count": null,
   "metadata": {},
   "outputs": [
    {
     "name": "stdout",
     "output_type": "stream",
     "text": [
      "Enter a number20\n",
      "Enter a number20\n"
     ]
    }
   ],
   "source": [
    "for num in range(2,10):\n",
    "\n",
    "    prime = True\n",
    "    for i in range(2,num):\n",
    "        if (num%i==0):\n",
    "            prime = False\n",
    "    if prime:\n",
    "        print(num)"
   ]
  },
  {
   "cell_type": "code",
   "execution_count": null,
   "metadata": {},
   "outputs": [],
   "source": []
  },
  {
   "cell_type": "code",
   "execution_count": 24,
   "metadata": {},
   "outputs": [
    {
     "name": "stdout",
     "output_type": "stream",
     "text": [
      "Enter the upper limit : 50\n",
      "2 3 5 7 11 13 17 19 23 29 31 37 41 43 47 "
     ]
    }
   ],
   "source": [
    "def prime_finder(num):\n",
    "    count = 0\n",
    "    for i in range(1,num+1):\n",
    "        if num % i == 0:\n",
    "            count +=1\n",
    "            if count > 2:\n",
    "                return False\n",
    "    if count == 2:\n",
    "        return True\n",
    "    else:\n",
    "        return False\n",
    "num = int(input(\"Enter the upper limit : \"))\n",
    "for i in range(1,num):\n",
    "    if prime_finder(i) == True:\n",
    "        print(i,end = \" \")"
   ]
  },
  {
   "cell_type": "code",
   "execution_count": 5,
   "metadata": {},
   "outputs": [
    {
     "name": "stdout",
     "output_type": "stream",
     "text": [
      "2\n",
      "14\n",
      "23 MS\n",
      "26\n",
      "35 MS\n"
     ]
    }
   ],
   "source": [
    "one_list= [1]\n",
    "one = 1\n",
    "two_list= [2]\n",
    "two = 2\n",
    "three_list= [3]\n",
    "three = 3\n",
    "four_list= [4]\n",
    "four = 4\n",
    "five_list = [5]\n",
    "five = 5\n",
    "six_list = [6]\n",
    "six = 6\n",
    "isFlag = True\n",
    "seat_position = ['WS','MS','AS', 'AS','MS','WS']\n",
    "for i in range(10):\n",
    "    if isFlag == True:\n",
    "        one = one + 11\n",
    "        one_list.append(one)\n",
    "        two = two + 9\n",
    "        two_list.append(two)\n",
    "        three = three + 7\n",
    "        three_list.append(three)\n",
    "        four = four + 5\n",
    "        four_list.append(four)\n",
    "        five = five + 3\n",
    "        five_list.append(five)\n",
    "        six = six + 1\n",
    "        six_list.append(six)\n",
    "        isFlag = False\n",
    "    elif isFlag == False:\n",
    "        one = one + 1\n",
    "        one_list.append(one)\n",
    "        two = two + 3\n",
    "        two_list.append(two)\n",
    "        three = three + 5\n",
    "        three_list.append(three)\n",
    "        four = four + 7\n",
    "        four_list.append(four)\n",
    "        five = five + 9\n",
    "        five_list.append(five)\n",
    "        six = six + 11\n",
    "        six_list.append(six)\n",
    "        isFlag = True\n",
    "num_of_input = int(input())\n",
    "while num_of_input > 0:\n",
    "    input_seat_number = int(input())\n",
    "    if input_seat_number in one_list:\n",
    "        if input_seat_number + 11 in one_list:\n",
    "            print(input_seat_number+11,seat_position[0])\n",
    "        elif input_seat_number - 11 in one_list:\n",
    "            print(input_seat_number - 11,seat_position[0])\n",
    "\n",
    "    elif input_seat_number in two_list:\n",
    "        if input_seat_number + 9 in two_list:\n",
    "            print(input_seat_number+9,seat_position[1])\n",
    "        elif input_seat_number - 9 in two_list:\n",
    "            print(input_seat_number - 9,seat_position[1])\n",
    "\n",
    "    elif input_seat_number in three_list:\n",
    "        if input_seat_number + 7 in three_list:\n",
    "            print(input_seat_number+7,seat_position[2])\n",
    "        elif input_seat_number - 7 in three_list:\n",
    "            print(input_seat_number - 7,seat_position[2])\n",
    "\n",
    "    elif input_seat_number in four_list:\n",
    "        if input_seat_number + 5 in four_list:\n",
    "            print(input_seat_number+5,seat_position[3])\n",
    "        elif input_seat_number - 5 in four_list:\n",
    "            print(input_seat_number - 5,seat_position[3])\n",
    "\n",
    "    elif input_seat_number in five_list:\n",
    "        if input_seat_number + 3 in three_list:\n",
    "            print(input_seat_number+3,seat_position[4])\n",
    "        elif input_seat_number - 3 in three_list:\n",
    "            print(input_seat_number - 3,seat_position[4])\n",
    "\n",
    "    elif input_seat_number in six_list:\n",
    "        if input_seat_number + 1 in six_list:\n",
    "            print(input_seat_number+1,seat_position[5])\n",
    "        elif input_seat_number - 1 in four_list:\n",
    "            print(input_seat_number - 1,seat_position[5])\n",
    "    num_of_input -=1"
   ]
  },
  {
   "cell_type": "code",
   "execution_count": 1,
   "metadata": {},
   "outputs": [
    {
     "name": "stdout",
     "output_type": "stream",
     "text": [
      "  wr t  c d \n"
     ]
    }
   ],
   "source": [
    "#Removal of vowel using decorator\n",
    "def removeVowel(string):\n",
    "    vowels = ('a', 'e', 'i', 'o', 'u') \n",
    "    def wrapper(data):\n",
    "        for x in vowels:                                #\n",
    "            data=data.replace(x,\" \")\n",
    "        return data\n",
    "    return wrapper\n",
    "    \n",
    "@removeVowel\n",
    "def method2(param):\n",
    "    return param\n",
    "print(method2(\"i write code\"))\n",
    "\n"
   ]
  },
  {
   "cell_type": "code",
   "execution_count": 10,
   "metadata": {},
   "outputs": [
    {
     "name": "stdout",
     "output_type": "stream",
     "text": [
      "Enter a stringmy name is khan And I am not a terrorist\n",
      "['m', 'y', 'n', 'm', 's', 'k', 'h', 'n', 'n', 'd', 'm', 'n', 't', 't', 'r', 'r', 'r', 's', 't']\n"
     ]
    }
   ],
   "source": [
    "string = input(\"Enter a string\")\n",
    "vowels = ('a','e','i','o','u','A','E','I','O','U',\" \")\n",
    "x = []\n",
    "for i in string:\n",
    "    if i not in vowels:\n",
    "         x.append(i)\n",
    "print(x)\n",
    "    "
   ]
  },
  {
   "cell_type": "code",
   "execution_count": null,
   "metadata": {},
   "outputs": [],
   "source": [
    "import random\n",
    "password = random.pass(string)"
   ]
  },
  {
   "cell_type": "code",
   "execution_count": null,
   "metadata": {},
   "outputs": [],
   "source": []
  }
 ],
 "metadata": {
  "kernelspec": {
   "display_name": "Python 3",
   "language": "python",
   "name": "python3"
  },
  "language_info": {
   "codemirror_mode": {
    "name": "ipython",
    "version": 3
   },
   "file_extension": ".py",
   "mimetype": "text/x-python",
   "name": "python",
   "nbconvert_exporter": "python",
   "pygments_lexer": "ipython3",
   "version": "3.7.4"
  }
 },
 "nbformat": 4,
 "nbformat_minor": 2
}
